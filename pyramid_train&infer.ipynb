{
  "nbformat": 4,
  "nbformat_minor": 0,
  "metadata": {
    "colab": {
      "name": "pyramid train.ipynb",
      "provenance": [],
      "collapsed_sections": [],
      "toc_visible": true,
      "mount_file_id": "1v4ZKD8onuSrchfAXnvz1RE5IyNpn1Qe6",
      "authorship_tag": "ABX9TyNthtxYesufB5XHFxbMXj2E",
      "include_colab_link": true
    },
    "kernelspec": {
      "name": "python3",
      "display_name": "Python 3"
    },
    "accelerator": "GPU"
  },
  "cells": [
    {
      "cell_type": "markdown",
      "metadata": {
        "id": "view-in-github",
        "colab_type": "text"
      },
      "source": [
        "<a href=\"https://colab.research.google.com/github/ParthPatel-ES/Pyramid-SD_PyTorch/blob/master/pyramid_train.ipynb\" target=\"_parent\"><img src=\"https://colab.research.google.com/assets/colab-badge.svg\" alt=\"Open In Colab\"/></a>"
      ]
    },
    {
      "cell_type": "markdown",
      "metadata": {
        "id": "eartF9D1Mpvc"
      },
      "source": [
        "**Pyramid-SD** Train"
      ]
    },
    {
      "cell_type": "code",
      "metadata": {
        "id": "fdmwMZUEMf48",
        "colab": {
          "base_uri": "https://localhost:8080/"
        },
        "outputId": "d9483748-2036-4d1b-a375-a280315d156e"
      },
      "source": [
        "!git clone https://github.com/parth15041995/Pyramid-SD_PyTorch.git"
      ],
      "execution_count": 1,
      "outputs": [
        {
          "output_type": "stream",
          "text": [
            "Cloning into 'Pyramid-SD_PyTorch'...\n",
            "remote: Enumerating objects: 79, done.\u001b[K\n",
            "remote: Counting objects: 100% (79/79), done.\u001b[K\n",
            "remote: Compressing objects: 100% (66/66), done.\u001b[K\n",
            "remote: Total 79 (delta 24), reused 27 (delta 8), pack-reused 0\u001b[K\n",
            "Unpacking objects: 100% (79/79), done.\n"
          ],
          "name": "stdout"
        }
      ]
    },
    {
      "cell_type": "code",
      "metadata": {
        "id": "6GjSmDGuMocn",
        "colab": {
          "base_uri": "https://localhost:8080/"
        },
        "outputId": "2c334305-476f-4caf-c8cf-0e1b0fc670e3"
      },
      "source": [
        "cd /content/Pyramid-SD_PyTorch"
      ],
      "execution_count": 2,
      "outputs": [
        {
          "output_type": "stream",
          "text": [
            "/content/Pyramid-SD_PyTorch\n"
          ],
          "name": "stdout"
        }
      ]
    },
    {
      "source": [
        "Download the DUTS Dataset  "
      ],
      "cell_type": "markdown",
      "metadata": {}
    },
    {
      "cell_type": "code",
      "metadata": {
        "id": "iDN207WOYEyF"
      },
      "source": [
        "!cp '/content/drive/My Drive/DUTS.zip' /content/Pyramid-SD_PyTorch"
      ],
      "execution_count": 3,
      "outputs": []
    },
    {
      "cell_type": "code",
      "metadata": {
        "id": "3wGdelkJLURT"
      },
      "source": [
        "import zipfile\n",
        "with zipfile.ZipFile('DUTS.zip', 'r') as zip_ref:\n",
        "    zip_ref.extractall('./data')"
      ],
      "execution_count": 4,
      "outputs": []
    },
    {
      "cell_type": "code",
      "metadata": {
        "id": "4eSjb56GL62g"
      },
      "source": [
        "%%shell\n",
        "python train.py --epochs 1 --n_worker 192"
      ],
      "execution_count": null,
      "outputs": []
    },
    {
      "source": [
        "Download pre-trained model. Link in the README.md"
      ],
      "cell_type": "markdown",
      "metadata": {}
    },
    {
      "cell_type": "code",
      "metadata": {
        "id": "pFe9TS-KsUxb"
      },
      "source": [
        "%%shell\n",
        "python inference.py --model_path '/content/drive/MyDrive/Colab Notebooks/models/best-model_epoch-204_mae-0.0505_loss-0.1370.pth' --imgs_folder '/content/Pyramid-SD_PyTorch/data/DUTS/DUTS-TE'"
      ],
      "execution_count": null,
      "outputs": []
    }
  ]
}