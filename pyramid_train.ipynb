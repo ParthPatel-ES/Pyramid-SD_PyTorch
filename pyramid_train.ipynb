{
  "nbformat": 4,
  "nbformat_minor": 0,
  "metadata": {
    "colab": {
      "name": "pyramid train.ipynb",
      "provenance": [],
      "collapsed_sections": [],
      "mount_file_id": "1v4ZKD8onuSrchfAXnvz1RE5IyNpn1Qe6",
      "authorship_tag": "ABX9TyO/ulUHn4r2jO5XNZP1c/Mm"
    },
    "kernelspec": {
      "name": "python3",
      "display_name": "Python 3"
    },
    "accelerator": "GPU"
  },
  "cells": [
    {
      "cell_type": "markdown",
      "metadata": {
        "id": "eartF9D1Mpvc",
        "colab_type": "text"
      },
      "source": [
        "**Pyramid-SD** Train"
      ]
    },
    {
      "cell_type": "code",
      "metadata": {
        "id": "fdmwMZUEMf48",
        "colab_type": "code",
        "colab": {
          "base_uri": "https://localhost:8080/",
          "height": 123
        },
        "outputId": "f4c2c469-fa1c-448b-b891-453bbde591cf"
      },
      "source": [
        "!git clone https://github.com/parth15041995/Pyramid-SD_PyTorch.git"
      ],
      "execution_count": 1,
      "outputs": [
        {
          "output_type": "stream",
          "text": [
            "Cloning into 'Pyramid-SD_PyTorch'...\n",
            "remote: Enumerating objects: 65, done.\u001b[K\n",
            "remote: Counting objects: 100% (65/65), done.\u001b[K\n",
            "remote: Compressing objects: 100% (56/56), done.\u001b[K\n",
            "remote: Total 65 (delta 17), reused 19 (delta 5), pack-reused 0\u001b[K\n",
            "Unpacking objects: 100% (65/65), done.\n"
          ],
          "name": "stdout"
        }
      ]
    },
    {
      "cell_type": "code",
      "metadata": {
        "id": "6GjSmDGuMocn",
        "colab_type": "code",
        "colab": {
          "base_uri": "https://localhost:8080/",
          "height": 34
        },
        "outputId": "daa588ef-3298-4a2e-f0ac-db466a4f5ab9"
      },
      "source": [
        "cd /content/Pyramid-SD_PyTorch"
      ],
      "execution_count": 2,
      "outputs": [
        {
          "output_type": "stream",
          "text": [
            "/content/Pyramid-SD_PyTorch\n"
          ],
          "name": "stdout"
        }
      ]
    },
    {
      "cell_type": "code",
      "metadata": {
        "id": "iDN207WOYEyF",
        "colab_type": "code",
        "colab": {}
      },
      "source": [
        "!cp '/content/drive/My Drive/DUTS.zip' /content/Pyramid-SD_PyTorch"
      ],
      "execution_count": 3,
      "outputs": []
    },
    {
      "cell_type": "code",
      "metadata": {
        "id": "3wGdelkJLURT",
        "colab_type": "code",
        "colab": {}
      },
      "source": [
        "import zipfile\n",
        "with zipfile.ZipFile('DUTS.zip', 'r') as zip_ref:\n",
        "    zip_ref.extractall('./data')"
      ],
      "execution_count": 4,
      "outputs": []
    },
    {
      "cell_type": "code",
      "metadata": {
        "id": "4eSjb56GL62g",
        "colab_type": "code",
        "colab": {}
      },
      "source": [
        "%%shell\n",
        "python train.py --epochs 10 --n_worker 56"
      ],
      "execution_count": null,
      "outputs": []
    },
    {
      "cell_type": "code",
      "metadata": {
        "id": "pFe9TS-KsUxb",
        "colab_type": "code",
        "colab": {}
      },
      "source": [
        "%%shell\n",
        "python inference.py "
      ],
      "execution_count": null,
      "outputs": []
    }
  ]
}