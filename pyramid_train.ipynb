{
  "nbformat": 4,
  "nbformat_minor": 0,
  "metadata": {
    "colab": {
      "name": "pyramid train.ipynb",
      "provenance": [],
      "collapsed_sections": [],
      "toc_visible": true,
      "mount_file_id": "1v4ZKD8onuSrchfAXnvz1RE5IyNpn1Qe6",
      "authorship_tag": "ABX9TyNthtxYesufB5XHFxbMXj2E",
      "include_colab_link": true
    },
    "kernelspec": {
      "name": "python3",
      "display_name": "Python 3"
    },
    "accelerator": "GPU"
  },
  "cells": [
    {
      "cell_type": "markdown",
      "metadata": {
        "id": "view-in-github",
        "colab_type": "text"
      },
      "source": [
        "<a href=\"https://colab.research.google.com/github/ParthPatel-ES/Pyramid-SD_PyTorch/blob/master/pyramid_train.ipynb\" target=\"_parent\"><img src=\"https://colab.research.google.com/assets/colab-badge.svg\" alt=\"Open In Colab\"/></a>"
      ]
    },
    {
      "cell_type": "markdown",
      "metadata": {
        "id": "eartF9D1Mpvc"
      },
      "source": [
        "**Pyramid-SD** Train"
      ]
    },
    {
      "cell_type": "code",
      "metadata": {
        "id": "fdmwMZUEMf48",
        "colab": {
          "base_uri": "https://localhost:8080/"
        },
        "outputId": "d9483748-2036-4d1b-a375-a280315d156e"
      },
      "source": [
        "!git clone https://github.com/parth15041995/Pyramid-SD_PyTorch.git"
      ],
      "execution_count": 1,
      "outputs": [
        {
          "output_type": "stream",
          "text": [
            "Cloning into 'Pyramid-SD_PyTorch'...\n",
            "remote: Enumerating objects: 79, done.\u001b[K\n",
            "remote: Counting objects: 100% (79/79), done.\u001b[K\n",
            "remote: Compressing objects: 100% (66/66), done.\u001b[K\n",
            "remote: Total 79 (delta 24), reused 27 (delta 8), pack-reused 0\u001b[K\n",
            "Unpacking objects: 100% (79/79), done.\n"
          ],
          "name": "stdout"
        }
      ]
    },
    {
      "cell_type": "code",
      "metadata": {
        "id": "6GjSmDGuMocn",
        "colab": {
          "base_uri": "https://localhost:8080/"
        },
        "outputId": "2c334305-476f-4caf-c8cf-0e1b0fc670e3"
      },
      "source": [
        "cd /content/Pyramid-SD_PyTorch"
      ],
      "execution_count": 2,
      "outputs": [
        {
          "output_type": "stream",
          "text": [
            "/content/Pyramid-SD_PyTorch\n"
          ],
          "name": "stdout"
        }
      ]
    },
    {
      "cell_type": "code",
      "metadata": {
        "id": "iDN207WOYEyF"
      },
      "source": [
        "!cp '/content/drive/My Drive/DUTS.zip' /content/Pyramid-SD_PyTorch"
      ],
      "execution_count": 3,
      "outputs": []
    },
    {
      "cell_type": "code",
      "metadata": {
        "id": "3wGdelkJLURT"
      },
      "source": [
        "import zipfile\n",
        "with zipfile.ZipFile('DUTS.zip', 'r') as zip_ref:\n",
        "    zip_ref.extractall('./data')"
      ],
      "execution_count": 4,
      "outputs": []
    },
    {
      "cell_type": "code",
      "metadata": {
        "id": "4eSjb56GL62g"
      },
      "source": [
        "%%shell\n",
        "python train.py --epochs 1 --n_worker 192"
      ],
      "execution_count": null,
      "outputs": []
    },
    {
      "cell_type": "code",
      "metadata": {
        "id": "pFe9TS-KsUxb"
      },
      "source": [
        "%%shell\n",
        "python inference.py --model_path '/content/drive/MyDrive/Colab Notebooks/models/best-model_epoch-204_mae-0.0505_loss-0.1370.pth' --imgs_folder '/content/Pyramid-SD_PyTorch/data/DUTS/DUTS-TE'"
      ],
      "execution_count": null,
      "outputs": []
    },
    {
      "cell_type": "markdown",
      "metadata": {
        "id": "0jTOppHl7mVA"
      },
      "source": [
        "## Resource Management\n"
      ]
    },
    {
      "cell_type": "code",
      "metadata": {
        "id": "jc48cqcHuBv_",
        "colab": {
          "base_uri": "https://localhost:8080/",
          "height": 238
        },
        "outputId": "723997bc-409e-4ed5-abef-e8639738e5cd"
      },
      "source": [
        "import resource\n",
        "memMb=resource.getrusage(resource.RUSAGE_SELF).ru_maxrss/1024.0/1024.0\n",
        "print (\" %5.1f MByte\" % (memMb))\n",
        "\n",
        "import torch\n",
        "model1 = model.load_state_dict(torch.load('full.pth'))\n",
        "print(model1)\n"
      ],
      "execution_count": null,
      "outputs": [
        {
          "output_type": "stream",
          "text": [
            "   4.4 MByte\n"
          ],
          "name": "stdout"
        },
        {
          "output_type": "error",
          "ename": "AttributeError",
          "evalue": "ignored",
          "traceback": [
            "\u001b[0;31m---------------------------------------------------------------------------\u001b[0m",
            "\u001b[0;31mAttributeError\u001b[0m                            Traceback (most recent call last)",
            "\u001b[0;32m<ipython-input-17-c604eeb3f6f1>\u001b[0m in \u001b[0;36m<module>\u001b[0;34m()\u001b[0m\n\u001b[1;32m      4\u001b[0m \u001b[0;34m\u001b[0m\u001b[0m\n\u001b[1;32m      5\u001b[0m \u001b[0;32mimport\u001b[0m \u001b[0mtorch\u001b[0m\u001b[0;34m\u001b[0m\u001b[0;34m\u001b[0m\u001b[0m\n\u001b[0;32m----> 6\u001b[0;31m \u001b[0mmodel1\u001b[0m \u001b[0;34m=\u001b[0m \u001b[0mmodel\u001b[0m\u001b[0;34m.\u001b[0m\u001b[0mload_state_dict\u001b[0m\u001b[0;34m(\u001b[0m\u001b[0mtorch\u001b[0m\u001b[0;34m.\u001b[0m\u001b[0mload\u001b[0m\u001b[0;34m(\u001b[0m\u001b[0;34m'full.pth'\u001b[0m\u001b[0;34m)\u001b[0m\u001b[0;34m)\u001b[0m\u001b[0;34m\u001b[0m\u001b[0;34m\u001b[0m\u001b[0m\n\u001b[0m\u001b[1;32m      7\u001b[0m \u001b[0mprint\u001b[0m\u001b[0;34m(\u001b[0m\u001b[0mmodel1\u001b[0m\u001b[0;34m)\u001b[0m\u001b[0;34m\u001b[0m\u001b[0;34m\u001b[0m\u001b[0m\n",
            "\u001b[0;31mAttributeError\u001b[0m: '_IncompatibleKeys' object has no attribute 'load_state_dict'"
          ]
        }
      ]
    },
    {
      "cell_type": "code",
      "metadata": {
        "id": "xGlo_AsH-f06",
        "colab": {
          "base_uri": "https://localhost:8080/",
          "height": 301
        },
        "outputId": "cfdd087b-f274-4f98-960b-fa33134ceef9"
      },
      "source": [
        "import torch\n",
        "import torchvision.models as models\n",
        "import torch.autograd.profiler as profiler\n",
        "\n",
        "model = models.resnet18()\n",
        "inputs = torch.randn(5, 3, 224, 224)\n",
        "with profiler.profile(profile_memory=True, record_shapes=True) as prof:\n",
        "    model(inputs)\n",
        "\n",
        "# NOTE: some columns were removed for brevity\n",
        "print(prof.key_averages().table(sort_by=\"self_cpu_memory_usage\", row_limit=10))\n",
        "# ---------------------------  ---------------  ---------------  ---------------\n",
        "# Name                         CPU Mem          Self CPU Mem     Number of Calls\n",
        "# ---------------------------  ---------------  ---------------  ---------------\n",
        "# empty                        94.79 Mb         94.79 Mb         123\n",
        "# resize_                      11.48 Mb         11.48 Mb         2\n",
        "# addmm                        19.53 Kb         19.53 Kb         1\n",
        "# empty_strided                4 b              4 b              1\n",
        "# conv2d                       47.37 Mb         0 b              20\n",
        "# ---------------------------  ---------------  ---------------  ---------------"
      ],
      "execution_count": null,
      "outputs": [
        {
          "output_type": "stream",
          "text": [
            "---------------------------  ---------------  ---------------  ---------------  ---------------  ---------------  ---------------  ---------------  ---------------  ---------------  ---------------  \n",
            "Name                         Self CPU total %  Self CPU total   CPU total %      CPU total        CPU time avg     CPU Mem          Self CPU Mem     CUDA Mem         Self CUDA Mem    Number of Calls  \n",
            "---------------------------  ---------------  ---------------  ---------------  ---------------  ---------------  ---------------  ---------------  ---------------  ---------------  ---------------  \n",
            "empty                        0.10%            510.341us        0.10%            510.341us        4.149us          94.79 Mb         94.79 Mb         0 b              0 b              123              \n",
            "resize_                      0.00%            12.088us         0.00%            12.088us         6.044us          11.48 Mb         11.48 Mb         0 b              0 b              2                \n",
            "addmm                        1.08%            5.346ms          1.08%            5.351ms          5.351ms          19.53 Kb         19.53 Kb         0 b              0 b              1                \n",
            "empty_strided                0.00%            5.885us          0.00%            5.885us          5.885us          4 b              4 b              0 b              0 b              1                \n",
            "conv2d                       0.05%            231.864us        65.12%           321.414ms        16.071ms         47.37 Mb         0 b              0 b              0 b              20               \n",
            "convolution                  0.02%            123.364us        65.07%           321.182ms        16.059ms         47.37 Mb         0 b              0 b              0 b              20               \n",
            "_convolution                 0.11%            539.993us        65.05%           321.059ms        16.053ms         47.37 Mb         0 b              0 b              0 b              20               \n",
            "size                         0.76%            3.754ms          0.76%            3.754ms          0.258us          0 b              0 b              0 b              0 b              14572            \n",
            "contiguous                   0.01%            29.759us         0.01%            29.759us         0.709us          0 b              0 b              0 b              0 b              42               \n",
            "mkldnn_convolution           64.89%           320.247ms        64.93%           320.455ms        16.023ms         47.37 Mb         0 b              0 b              0 b              20               \n",
            "---------------------------  ---------------  ---------------  ---------------  ---------------  ---------------  ---------------  ---------------  ---------------  ---------------  ---------------  \n",
            "Self CPU time total: 493.558ms\n",
            "\n"
          ],
          "name": "stdout"
        }
      ]
    }
  ]
}